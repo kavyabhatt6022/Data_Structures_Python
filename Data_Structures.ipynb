{
  "nbformat": 4,
  "nbformat_minor": 0,
  "metadata": {
    "colab": {
      "provenance": []
    },
    "kernelspec": {
      "name": "python3",
      "display_name": "Python 3"
    },
    "language_info": {
      "name": "python"
    }
  },
  "cells": [
    {
      "cell_type": "markdown",
      "source": [
        "# **Data Types and Structures Questions**"
      ],
      "metadata": {
        "id": "iQ9zccLyuueO"
      }
    },
    {
      "cell_type": "markdown",
      "source": [
        "1. What are data structures and why they are important?\n",
        "- Data structures are the specialized formats for organising , storing and accessing collections of data. They provide efficient ways to manage information based on the characterstics and intended use.\n",
        "- Think of them as containers that hold your data and determine how you can interact with it.Different containers are better suited for different types of items.\n"
      ],
      "metadata": {
        "id": "r1QwiePMnLg5"
      }
    },
    {
      "cell_type": "markdown",
      "source": [
        "2. Explain the difference between mutable and immutable data types with examples.\n",
        "- Mutable data types are those data types which can be modified after creation. Lists and dictionaries are the examples of such data types.\n",
        "-Immutable data types are those data types which cannot be modified after getting created once. Tuples and strings are the example of such data type."
      ],
      "metadata": {
        "id": "dnaIVv4opy96"
      }
    },
    {
      "cell_type": "markdown",
      "source": [
        "3. What are the main difference between lists and tuples in Python?\n",
        "- Lists are ordered, mutable collection of elements whereas tuples are similar to lists but are immutable collection of elements.\n",
        "- In lists, you can add, remove, or modify elements within a list using indexing and slicing however in tuples, you can access the elements using indexing and slicing, but you cannot modify the content.\n",
        "- Lists are versatile for storing and managing collections that might change but tuples are useful for representing fixed datasets or configurations.\n"
      ],
      "metadata": {
        "id": "pTU8kVZ3rnzv"
      }
    },
    {
      "cell_type": "markdown",
      "source": [
        "4. Describe how dictionaries store data.\n",
        "- Dictionaries are the unordered data structures that are used to store the values in key:value pairs.\n",
        "- Values in the dictionary can be of any data type and can be duplicated , whereas keys can't be repeated and must be immutable.\n",
        "- Each key acts as a unique identifier for retrieving an associated value."
      ],
      "metadata": {
        "id": "7ktzjQkSuPYR"
      }
    },
    {
      "cell_type": "markdown",
      "source": [
        "5. Why might you use set instead of a list in Python?\n",
        "- It's because sets can't have multiple occurences of the same element, it makes sets highly useful as all the duplicate elements get removed automatically and efficiently.\n",
        "- It's easy to perform common math operations like unions and intersections."
      ],
      "metadata": {
        "id": "8GdJlAn229Zf"
      }
    },
    {
      "cell_type": "markdown",
      "source": [
        "6. What is string in Python, and how it is different from a list?\n",
        "- In Python , a sting is a sequence of characters enclosed in the single or double quotes. On the other hand, a list is a collection of items that can be of any data type represented by square brackets and can contain multiple elements separated by commas.\n",
        "- Strings are immutable , meaning thier values can't be changed once they are created whereas lists are mutable"
      ],
      "metadata": {
        "id": "RhN5HV0O4izV"
      }
    },
    {
      "cell_type": "markdown",
      "source": [
        "7. How do tuples ensures the data integrity in Python?\n",
        "- Tuples are immutable, meaning once they are created, they can't be changed. This characterstic leverages the data integrity as by using tuples for data that should not be modified after creation."
      ],
      "metadata": {
        "id": "52lQgEOM7Dot"
      }
    },
    {
      "cell_type": "markdown",
      "source": [
        "8. What is a hash table, and how does it relate to dictionaries in Python?\n",
        "- A hash table is a data structure that stores key-value pairs, using a hash function to determine address or the index of each value based on its key, allowing for the fast retrieval. In Python, dictionaries are implemented using hash tables."
      ],
      "metadata": {
        "id": "8qrCbKku8Ac7"
      }
    },
    {
      "cell_type": "markdown",
      "source": [
        "9. Can lists contain different data types in Python?\n",
        "- Yes, in Python, lists can contains heterogeneous data types and objects such as numbers, strings, even other lists too."
      ],
      "metadata": {
        "id": "snSOg5Rb-Ald"
      }
    },
    {
      "cell_type": "markdown",
      "source": [
        "10. Explain why the strings are immutable in Python?\n",
        "- Immutablility is the property of an object according to which we cannot change the object after we declared or after the creation of it and this property is shown by strings too. Hence the strings are immutable in python."
      ],
      "metadata": {
        "id": "wCIpUesp-7qF"
      }
    },
    {
      "cell_type": "markdown",
      "source": [
        "11. What advantages do dictionaries offer over the lists for certain tasks?\n",
        "- Dictionaries allows for efficient retrieval of values using kays, which can be much faster than searching through a list, especially for larger datasets.\n",
        "- Dictionaries provide logical way to represent data with associations and relationships between keys and values. For instance, storing information about a person, where each piece of information is naturally associated with a key.\n",
        "- They are well suited for tasks that involve mapping keys to values associated with specific keys, improving performance and code reliability in numerous scenarios."
      ],
      "metadata": {
        "id": "E8lNoc39AQsS"
      }
    },
    {
      "cell_type": "markdown",
      "source": [
        "12. Describe the scenario where using a tuple would be more preferable over a list.\n",
        "- A tuple would be more preferable over a list when you need to ensure data integrity and prevent accidental modification of the stored elements.\n",
        "\n",
        " **Example:**\n",
        "\n",
        " Consider a scenario where we are storing **Aadhar card number** of each person in your society. we want to make sure these **Aadhar number** remain constant and are not accidentally changed throughout our program.\n",
        "\n",
        " In this case, using a tuple would be ideal because:\n",
        "\n",
        " 1. **Immutability:** Tuples are immutable, meaning their values cannot be altered after creation.\n",
        " 2. **Data Integrity:** By using tuples, we are implicitly stating that the **Aadhar number** are fixed and should not be modified, enforcing data integrity.\n",
        " 3. **Readability:** Using tuples clarifies the intention of keeping the data fixed, making the code more understandable for others."
      ],
      "metadata": {
        "id": "tq8t6ncxGmFw"
      }
    },
    {
      "cell_type": "markdown",
      "source": [
        "13. How do sets handle duplicate values?\n",
        "- Sets handle duplicate values by ignoring them.\n",
        "- A set only stores unique elements.\n",
        "- If we try to add a duplicate element to a set , it will simply be ignored, and the set will remain unchanged.\n",
        "- This unique property is essential when we want to ensure that we don't have any redundant entries in our data structure."
      ],
      "metadata": {
        "id": "1WjDsOzZS2w9"
      }
    },
    {
      "cell_type": "markdown",
      "source": [
        "14. How does the \"in\" keyword works differently for the lists and dictionaries?\n",
        "- In lists, the \"in\" keyword checks for the presence of specific element within the list.\n",
        "- In dictionaries, the \"in\" keyword checks for the presence of a specific key in  the dictionary."
      ],
      "metadata": {
        "id": "r82OJeueUkSN"
      }
    },
    {
      "cell_type": "markdown",
      "source": [
        "15. Can you modify the elements of tuple? Explain why or why not?\n",
        "- No, we can't directly modify the elements of a tuple in Python because tuples are immutable, meaning that thier content can't be changed after creation.\n",
        "- If we try to modify the element of tuple, it will throw a TypeError.\n",
        "- We can only modify a tuple by convwerting it to list, change the list and then converting back it into list."
      ],
      "metadata": {
        "id": "mc7jUh3MV19u"
      }
    },
    {
      "cell_type": "markdown",
      "source": [
        "16. What is nested dictionary, and give an example of it's use case?\n",
        "- A nested dictionary is a dictionary where the values are also dictionaries.\n",
        "- This allows us to create a hierarchical structure for storing and organizing data.\n",
        "\n",
        " **Example**: Storing the students information with nested dictionaries\n",
        "  student_data = {\n",
        "    'student1':{\n",
        "      'name': 'Bhavya',\n",
        "      'age': 18,\n",
        "      'grades': {'math': 90, 'science': 85, 'english': 92}\n",
        "  },\n",
        "  'student2': {\n",
        "    'name': 'Kavya',\n",
        "    'age': 17,\n",
        "    'grades': {'math': 88, 'science': 92, 'english': 89}\n",
        "  }\n",
        "  }\n",
        "\n",
        "  **Use Case**: Representing complex data structures.\n",
        "\n",
        "   Nested dictionaries are useful for representing data with multiple levels of relationships or hierarchies, such as:\n",
        "   - Storing informations about a company's departments and employees.\n",
        "   - Manaaging inventory with the product categories and subcategories.\n",
        "   - Representing social network connections with users and thier friends."
      ],
      "metadata": {
        "id": "NUe6fwBvXPVv"
      }
    },
    {
      "cell_type": "markdown",
      "source": [
        "17. Describe the time complexity of accessing elements in a dictionary?\n",
        "- The time complexity of accessing the elementys in a dictionary is O(1) on average.\n",
        "- This is because dictionaries are implemented using hash tables, which allows for the fast lookups based on the key.\n",
        "- However, in the worst-case scenario, where there are many collision in the hash table, the time complexity decrease to the O(n),  where n is the number of elements in the dictionary.\n"
      ],
      "metadata": {
        "id": "6jyJy3Pqc80M"
      }
    },
    {
      "cell_type": "markdown",
      "source": [
        "18. In what situations lists are prweefered over the dictionaries?\n",
        "- The followings are situations where the lists are preferred over the dictionaries:-\n",
        "  - **When orders matter**:\n",
        "     1. Lists maintains the order of elements, whereas dictionaries donot gaurantee any specific order.\n",
        "     2. If we need to process our data sequentially or iterate through it it in a particular order, lists are preferable.\n",
        "  - **When we need indexing**:\n",
        "     1. Lists are indexed numerically, allowing easy access to elements by thier position.\n",
        "     2. Dictionaries, on the other hand, are inderxed by the keys, which might not always be suitable.\n",
        "  - **When you are dealing with a homogeneous collection**:\n",
        "     1. Lists are best for storing a colllectiopn of similar data types.\n",
        "     2. Dictionaries are better suited for representing data where each item is a key-value pair with potentially different data types.\n",
        "  - **When we want to modify data frequently**:\n",
        "    1. Lists are mutable, meaning that we can easily add, remove, or modify elements within the list.\n",
        "    2. While dictionaries are also mutable, they are less efficient for the task compared to lists, especially when frequent updates are required.\n",
        "  - **When we don't need key-value association**:\n",
        "    1. Lists are simpler to use when we just want to store a sequence of items without needing to associate them with specific labels or keys.\n",
        "\n"
      ],
      "metadata": {
        "id": "J-1nGqNmejeI"
      }
    },
    {
      "cell_type": "markdown",
      "source": [
        "19. Why are dictionaries are considered unordered, and how does that affect data retrieval?\n",
        "- Dictionaries are considered unordered because they do not gaurantee any specific order for the elements they store.\n",
        "- The ordetr in which  we insert key-valuie pairs into the dictionary may niot be the same order in which they were sytored internally or retrieved.\n",
        "\n",
        " This affects the data retrieval in the following ways:\n",
        "- We cannot rely on the order of the elements when we iterate through the doictionary or access the elements.\n",
        "- Even thoufgh the order is not gauranteed, dictionaries excel at retrieving the data based on keys, offerin the fastest lookup time i.e. O(1) on average.\n",
        "-Dictionaries are usually implemented using hash table, which allows for fast access bassed on keys."
      ],
      "metadata": {
        "id": "mnqeNfStjYr5"
      }
    },
    {
      "cell_type": "markdown",
      "source": [
        "20. Explain the difference between a list and a dictionary in the terms of data retrieval?\n",
        "- **Data Retrieval in List**:\n",
        "   - Access the index: Lists are the ordered collectiion, allowing the user to access elements using thier numerical index (positions).\n",
        "   - Time Complexity:  Accessing the elements by index has the time complexity of O(1).\n",
        "\n",
        "- **Data Retrieval in Dictionaries**:\n",
        "   - Access by Key: Dictionaries stores the data in key-value pairs. the usre can retrieve values by providing the corresponding key.\n",
        "   - Time Complexity: Accesssing the values by keys has an averagew time complexity of O(1) (constant time) due to the use of the hash tables.\n"
      ],
      "metadata": {
        "id": "lmaFbNZml4h_"
      }
    },
    {
      "cell_type": "markdown",
      "source": [
        "# **Practical Questions**"
      ],
      "metadata": {
        "id": "5yGwwTHTvEKC"
      }
    },
    {
      "cell_type": "markdown",
      "source": [
        "1. Write a code to create a string with your name and print it."
      ],
      "metadata": {
        "id": "LKrLAqfZIjOW"
      }
    },
    {
      "cell_type": "code",
      "source": [
        "string = \"Kavya Bhatt\"\n",
        "print(string)"
      ],
      "metadata": {
        "colab": {
          "base_uri": "https://localhost:8080/"
        },
        "id": "4xaog9y5vmMc",
        "outputId": "02eeb654-e163-4776-e180-f2c0abf39259"
      },
      "execution_count": null,
      "outputs": [
        {
          "output_type": "stream",
          "name": "stdout",
          "text": [
            "Kavya Bhatt\n"
          ]
        }
      ]
    },
    {
      "cell_type": "markdown",
      "source": [
        "2. Write a code to find the length of string \"Hello World\"."
      ],
      "metadata": {
        "id": "qCFa2H3bv3xW"
      }
    },
    {
      "cell_type": "code",
      "source": [
        "string = \"Hello World\"\n",
        "print(len(string))"
      ],
      "metadata": {
        "colab": {
          "base_uri": "https://localhost:8080/"
        },
        "id": "TeYpfYMMwJ0w",
        "outputId": "00ec9c41-83e0-497b-ff9d-88355f15beac"
      },
      "execution_count": null,
      "outputs": [
        {
          "output_type": "stream",
          "name": "stdout",
          "text": [
            "11\n"
          ]
        }
      ]
    },
    {
      "cell_type": "markdown",
      "source": [
        "3. Write a code to slice first 3 characters from the string \"Python Programming\"."
      ],
      "metadata": {
        "id": "_fsaZOVQwkR6"
      }
    },
    {
      "cell_type": "code",
      "source": [
        "str = \"Python Programming\"\n",
        "string = str[0:3]\n",
        "print(string)"
      ],
      "metadata": {
        "colab": {
          "base_uri": "https://localhost:8080/"
        },
        "id": "wJUiW__Cw99E",
        "outputId": "e0415a8c-1754-4991-dd1d-2887c0a078b7"
      },
      "execution_count": null,
      "outputs": [
        {
          "output_type": "stream",
          "name": "stdout",
          "text": [
            "Pyt\n"
          ]
        }
      ]
    },
    {
      "cell_type": "markdown",
      "source": [
        "4. Write a code to convert the string \"hello\" to uppercase."
      ],
      "metadata": {
        "id": "19DqC9f5xjuS"
      }
    },
    {
      "cell_type": "code",
      "source": [
        "string = \"hello\"\n",
        "print(string.upper())"
      ],
      "metadata": {
        "colab": {
          "base_uri": "https://localhost:8080/"
        },
        "id": "QTjES-qXx4Yj",
        "outputId": "124aaad7-8e29-44eb-a81c-242e4a623d10"
      },
      "execution_count": null,
      "outputs": [
        {
          "output_type": "stream",
          "name": "stdout",
          "text": [
            "HELLO\n"
          ]
        }
      ]
    },
    {
      "cell_type": "markdown",
      "source": [
        "5. Write a code to replace the word \"apple\" with \"orange\" in the string \"I like apple\"."
      ],
      "metadata": {
        "id": "FOJ1J80MyMLS"
      }
    },
    {
      "cell_type": "code",
      "source": [
        "string = \"I like apple\"\n",
        "print(string.replace(\"apple\", \"orange\"))"
      ],
      "metadata": {
        "colab": {
          "base_uri": "https://localhost:8080/"
        },
        "id": "u4h8xObBygts",
        "outputId": "c1d47c0a-663c-4fba-ad4e-731324b1d077"
      },
      "execution_count": null,
      "outputs": [
        {
          "output_type": "stream",
          "name": "stdout",
          "text": [
            "I like orange\n"
          ]
        }
      ]
    },
    {
      "cell_type": "markdown",
      "source": [
        "6. Write a code to create a list with numbers from 1 to 5 and print it."
      ],
      "metadata": {
        "id": "FXsfp2UAyt8y"
      }
    },
    {
      "cell_type": "code",
      "source": [
        "list = [1,2,3,4,5]\n",
        "print(list)"
      ],
      "metadata": {
        "colab": {
          "base_uri": "https://localhost:8080/"
        },
        "id": "eUNU_WG0y9w8",
        "outputId": "960047a1-42d1-456c-fca8-4097ee3ecc62"
      },
      "execution_count": null,
      "outputs": [
        {
          "output_type": "stream",
          "name": "stdout",
          "text": [
            "[1, 2, 3, 4, 5]\n"
          ]
        }
      ]
    },
    {
      "cell_type": "markdown",
      "source": [
        "7. Write a code to append number 10 to the list [1,2,3,4]."
      ],
      "metadata": {
        "id": "5qrsRpGizgzz"
      }
    },
    {
      "cell_type": "code",
      "source": [
        "lis = [1, 2, 3, 4]\n",
        "lis.append(10)\n",
        "print(lis)"
      ],
      "metadata": {
        "colab": {
          "base_uri": "https://localhost:8080/"
        },
        "id": "ZG45ioZfzvbQ",
        "outputId": "e4900965-406a-4681-e84e-8c7043e01b2f"
      },
      "execution_count": null,
      "outputs": [
        {
          "output_type": "stream",
          "name": "stdout",
          "text": [
            "[1, 2, 3, 4, 10]\n"
          ]
        }
      ]
    },
    {
      "cell_type": "markdown",
      "source": [
        "8. Write a code to remove the number 3 from the list [1,2,3,4,5]."
      ],
      "metadata": {
        "id": "m-TRNISgz8Z-"
      }
    },
    {
      "cell_type": "code",
      "source": [
        "lis1 = [1,2,3,4,5]\n",
        "lis1.remove(3)\n",
        "print(lis1)"
      ],
      "metadata": {
        "colab": {
          "base_uri": "https://localhost:8080/"
        },
        "id": "gkIrvWX80Mbk",
        "outputId": "6918a9ea-0ea9-45a4-97e8-d4409f0a9940"
      },
      "execution_count": null,
      "outputs": [
        {
          "output_type": "stream",
          "name": "stdout",
          "text": [
            "[1, 2, 4, 5]\n"
          ]
        }
      ]
    },
    {
      "cell_type": "markdown",
      "source": [
        "9. Write a code to access the second element in the list ['a','b','c','d']."
      ],
      "metadata": {
        "id": "LtbsUMD60l02"
      }
    },
    {
      "cell_type": "code",
      "source": [
        "char = ['a', 'b', 'c', 'd']\n",
        "char[1]"
      ],
      "metadata": {
        "colab": {
          "base_uri": "https://localhost:8080/",
          "height": 36
        },
        "id": "0F8m3Y2701sd",
        "outputId": "ea6ec806-d9a5-4e63-d8b5-52759da6fe13"
      },
      "execution_count": null,
      "outputs": [
        {
          "output_type": "execute_result",
          "data": {
            "text/plain": [
              "'b'"
            ],
            "application/vnd.google.colaboratory.intrinsic+json": {
              "type": "string"
            }
          },
          "metadata": {},
          "execution_count": 12
        }
      ]
    },
    {
      "cell_type": "markdown",
      "source": [
        "10. Write a code to reverse the list [10, 20, 30, 40, 50]."
      ],
      "metadata": {
        "id": "CzgQgV4U1NSx"
      }
    },
    {
      "cell_type": "code",
      "source": [
        "list = [10, 20, 30, 40, 50]\n",
        "print(list[5: : -1])"
      ],
      "metadata": {
        "colab": {
          "base_uri": "https://localhost:8080/"
        },
        "id": "nhYwc2kF1Zi1",
        "outputId": "504208c8-5327-4003-dcad-9b8990c83573"
      },
      "execution_count": null,
      "outputs": [
        {
          "output_type": "stream",
          "name": "stdout",
          "text": [
            "[50, 40, 30, 20, 10]\n"
          ]
        }
      ]
    },
    {
      "cell_type": "markdown",
      "source": [
        "11. Write a code to create a tuple with elements 100, 200, 300 and print it."
      ],
      "metadata": {
        "id": "yxd6j7el1qUH"
      }
    },
    {
      "cell_type": "code",
      "source": [
        "tuple = (100, 200, 300)\n",
        "print(tuple)"
      ],
      "metadata": {
        "colab": {
          "base_uri": "https://localhost:8080/"
        },
        "id": "snvY7ZMa18-a",
        "outputId": "dcf9a80e-c763-4217-9af4-2c4f25a65b04"
      },
      "execution_count": null,
      "outputs": [
        {
          "output_type": "stream",
          "name": "stdout",
          "text": [
            "(100, 200, 300)\n"
          ]
        }
      ]
    },
    {
      "cell_type": "markdown",
      "source": [
        "12. Write a code to access the second-to-last element of the tuple ('red', 'green', 'blue', 'yellow')."
      ],
      "metadata": {
        "id": "zRSoh4O82beF"
      }
    },
    {
      "cell_type": "code",
      "source": [
        "color = ('red', 'green', 'blue', 'yellow')\n",
        "color[-2]"
      ],
      "metadata": {
        "colab": {
          "base_uri": "https://localhost:8080/",
          "height": 36
        },
        "id": "wFnom7_C287F",
        "outputId": "aeaaadc9-92da-451f-e746-3bbca9c5c118"
      },
      "execution_count": null,
      "outputs": [
        {
          "output_type": "execute_result",
          "data": {
            "text/plain": [
              "'blue'"
            ],
            "application/vnd.google.colaboratory.intrinsic+json": {
              "type": "string"
            }
          },
          "metadata": {},
          "execution_count": 15
        }
      ]
    },
    {
      "cell_type": "markdown",
      "source": [
        "13. Write a code to find the minimum number in the tuple (10,20,5,15)."
      ],
      "metadata": {
        "id": "4cez1yHE3YlE"
      }
    },
    {
      "cell_type": "code",
      "source": [
        "tuple = (10, 20, 5, 15)\n",
        "min_num = min(tuple)\n",
        "print(min_num)\n"
      ],
      "metadata": {
        "colab": {
          "base_uri": "https://localhost:8080/"
        },
        "id": "IO4-ZFWF34kI",
        "outputId": "ad9958f7-2be9-4796-a96c-8dc4c18daadb"
      },
      "execution_count": null,
      "outputs": [
        {
          "output_type": "stream",
          "name": "stdout",
          "text": [
            "5\n"
          ]
        }
      ]
    },
    {
      "cell_type": "markdown",
      "source": [
        "14. Write a code to find the index of the element \"cat\" in the tuple ('dog', 'cat', 'rabbit')."
      ],
      "metadata": {
        "id": "2r1BdZx24kHG"
      }
    },
    {
      "cell_type": "code",
      "source": [
        "pet = ('dog', 'cat', 'rabbit')\n",
        "index_of_cat = pet.index('cat')\n",
        "print(index_of_cat)"
      ],
      "metadata": {
        "colab": {
          "base_uri": "https://localhost:8080/"
        },
        "id": "P8GY4emc5IzD",
        "outputId": "6513805e-55c4-4a4d-a407-c58c07dd2685"
      },
      "execution_count": null,
      "outputs": [
        {
          "output_type": "stream",
          "name": "stdout",
          "text": [
            "1\n"
          ]
        }
      ]
    },
    {
      "cell_type": "markdown",
      "source": [
        "15. Write a code to create a tuple containing three different fruits and check if \"kiwi\" is in it."
      ],
      "metadata": {
        "id": "HfFjf2knNMn5"
      }
    },
    {
      "cell_type": "code",
      "source": [
        "bucket = ('dragon fruit','kiwi','avacado')\n",
        "if 'kiwi' in bucket:\n",
        "  print('yes present')\n",
        "else:\n",
        "  print('not present')"
      ],
      "metadata": {
        "colab": {
          "base_uri": "https://localhost:8080/"
        },
        "id": "kBbgNNJXOAGf",
        "outputId": "c4454349-842d-4f2e-8efd-5026aa245dae"
      },
      "execution_count": null,
      "outputs": [
        {
          "output_type": "stream",
          "name": "stdout",
          "text": [
            "yes present\n"
          ]
        }
      ]
    },
    {
      "cell_type": "markdown",
      "source": [
        "16. Write a code to create a set with elements 'a', 'b', 'c' and print it."
      ],
      "metadata": {
        "id": "s5Gms_5bOoD2"
      }
    },
    {
      "cell_type": "code",
      "source": [
        "set4 = {'a','b','c'}\n",
        "print(set4)"
      ],
      "metadata": {
        "colab": {
          "base_uri": "https://localhost:8080/"
        },
        "id": "I3lf1nWuqX1l",
        "outputId": "45caa959-ee2a-47b1-9c56-3d92fdad4a84"
      },
      "execution_count": null,
      "outputs": [
        {
          "output_type": "stream",
          "name": "stdout",
          "text": [
            "{'c', 'b', 'a'}\n"
          ]
        }
      ]
    },
    {
      "cell_type": "markdown",
      "source": [
        "17. Write a code to clear all elements from the set {1,2,3,4,5}."
      ],
      "metadata": {
        "id": "IK3y9JoxP65O"
      }
    },
    {
      "cell_type": "code",
      "source": [
        "my_set = {1, 2, 3, 4, 5}\n",
        "my_set.clear()\n",
        "print(my_set)"
      ],
      "metadata": {
        "colab": {
          "base_uri": "https://localhost:8080/"
        },
        "id": "FBBp8XbLQOBL",
        "outputId": "7194d760-284a-41ad-9183-73af216dc735"
      },
      "execution_count": null,
      "outputs": [
        {
          "output_type": "stream",
          "name": "stdout",
          "text": [
            "set()\n"
          ]
        }
      ]
    },
    {
      "cell_type": "markdown",
      "source": [
        "18. Write a code to remove the element 4 from the set {1,2,3,4}"
      ],
      "metadata": {
        "id": "5ZDdB-tdQy5o"
      }
    },
    {
      "cell_type": "code",
      "source": [
        "set1 = {1,2,3,4}\n",
        "set1.remove(4)\n",
        "print(set1)"
      ],
      "metadata": {
        "colab": {
          "base_uri": "https://localhost:8080/"
        },
        "id": "P2L709KFQ_s5",
        "outputId": "c5f93c30-718a-4038-e8cd-431b1d4685a9"
      },
      "execution_count": null,
      "outputs": [
        {
          "output_type": "stream",
          "name": "stdout",
          "text": [
            "{1, 2, 3}\n"
          ]
        }
      ]
    },
    {
      "cell_type": "markdown",
      "source": [
        "19. Write a code to find union of two sets {1,2,3} and {3,4,5}."
      ],
      "metadata": {
        "id": "7dIE1q2URUue"
      }
    },
    {
      "cell_type": "code",
      "source": [
        "set1 = {1, 2, 3}\n",
        "set2 = {3, 4, 5}\n",
        "union_sets = set1.union(set2)\n",
        "print(union_sets)"
      ],
      "metadata": {
        "colab": {
          "base_uri": "https://localhost:8080/"
        },
        "id": "raiGuFqORyzE",
        "outputId": "4fda0434-e83d-4c3c-d216-e40067d0d7f7"
      },
      "execution_count": null,
      "outputs": [
        {
          "output_type": "stream",
          "name": "stdout",
          "text": [
            "{1, 2, 3, 4, 5}\n"
          ]
        }
      ]
    },
    {
      "cell_type": "markdown",
      "source": [
        "20. Write a code to find intersection of two sets {1, 2, 3} and {2, 3, 4}."
      ],
      "metadata": {
        "id": "u0OOu2ieSLOg"
      }
    },
    {
      "cell_type": "code",
      "source": [
        "set1 = {1, 2, 3}\n",
        "set2 = {2, 3, 4}\n",
        "intersection_sets = set1.intersection(set2)\n",
        "print(intersection_sets)"
      ],
      "metadata": {
        "colab": {
          "base_uri": "https://localhost:8080/"
        },
        "id": "x-9s3VdoSfWY",
        "outputId": "06ab7cca-d449-45c6-e8e1-ec1620e250aa"
      },
      "execution_count": null,
      "outputs": [
        {
          "output_type": "stream",
          "name": "stdout",
          "text": [
            "{2, 3}\n"
          ]
        }
      ]
    },
    {
      "cell_type": "markdown",
      "source": [
        "21. Write a code to create dictionary with the keys \"name\", \"age\" and \"city\", and print it."
      ],
      "metadata": {
        "id": "BWnbf4l-S31S"
      }
    },
    {
      "cell_type": "code",
      "source": [
        "dict = {\"name\":\"kavya\", \"age\":21, \"city\":\"jaipur\"}\n",
        "print(dict)"
      ],
      "metadata": {
        "colab": {
          "base_uri": "https://localhost:8080/"
        },
        "id": "OAblRkqATduA",
        "outputId": "3d018934-50dc-41c4-8b88-5e5cb5084a64"
      },
      "execution_count": null,
      "outputs": [
        {
          "output_type": "stream",
          "name": "stdout",
          "text": [
            "{'name': 'kavya', 'age': 21, 'city': 'jaipur'}\n"
          ]
        }
      ]
    },
    {
      "cell_type": "markdown",
      "source": [
        "22. Write a code to add a new key-value pair \"country\":\"USA\" to the dictionary {'name':'John', 'age':25}."
      ],
      "metadata": {
        "id": "8ZUzwH6-UFC2"
      }
    },
    {
      "cell_type": "code",
      "source": [
        "my_dict = {'name': 'John', 'age': 25}\n",
        "my_dict['country'] = 'USA'\n",
        "print(my_dict)"
      ],
      "metadata": {
        "colab": {
          "base_uri": "https://localhost:8080/"
        },
        "id": "Gvnd1aH7Uyou",
        "outputId": "8059bc0f-4ced-4fda-86ca-c044e03bbca2"
      },
      "execution_count": null,
      "outputs": [
        {
          "output_type": "stream",
          "name": "stdout",
          "text": [
            "{'name': 'John', 'age': 25, 'country': 'USA'}\n"
          ]
        }
      ]
    },
    {
      "cell_type": "markdown",
      "source": [
        "23. Write a code to access value associated with the key \"name\" in the dictionary {'name': 'Alice', 'age': 30}."
      ],
      "metadata": {
        "id": "nXidjhW0ZQ7B"
      }
    },
    {
      "cell_type": "code",
      "source": [
        "my_dict = {'name':'Alice', 'age':22}\n",
        "my_dict['name']"
      ],
      "metadata": {
        "colab": {
          "base_uri": "https://localhost:8080/",
          "height": 36
        },
        "id": "ljtWhH5QZuIH",
        "outputId": "929d7905-c776-43b5-b566-c6eec1ef0a85"
      },
      "execution_count": null,
      "outputs": [
        {
          "output_type": "execute_result",
          "data": {
            "text/plain": [
              "'Alice'"
            ],
            "application/vnd.google.colaboratory.intrinsic+json": {
              "type": "string"
            }
          },
          "metadata": {},
          "execution_count": 11
        }
      ]
    },
    {
      "cell_type": "markdown",
      "source": [
        "24. Write a code to remove the key \"age\" from the dictionary {'name':'Bob', 'age':22, 'city':'New York'}."
      ],
      "metadata": {
        "id": "PVMh7a_2aJDB"
      }
    },
    {
      "cell_type": "code",
      "source": [
        "dict = {'name': 'Bob', 'age': 22, 'city': 'New York'}\n",
        "del dict['age']\n",
        "print(dict)"
      ],
      "metadata": {
        "colab": {
          "base_uri": "https://localhost:8080/"
        },
        "id": "Frh9XKMKann5",
        "outputId": "5df8864e-116f-4eb6-c993-5a2fc37612d9"
      },
      "execution_count": null,
      "outputs": [
        {
          "output_type": "stream",
          "name": "stdout",
          "text": [
            "{'name': 'Bob', 'city': 'New York'}\n"
          ]
        }
      ]
    },
    {
      "cell_type": "markdown",
      "source": [
        "25. Write a code to check if the key \"city\" exists in the dictionary {'name': 'Alice', 'city': 'Paris'}."
      ],
      "metadata": {
        "id": "95CkBw4ZbYr3"
      }
    },
    {
      "cell_type": "code",
      "source": [
        "my_dict = {'name': 'Alice', 'city': 'Paris'}\n",
        "if 'city' in my_dict:\n",
        "  print('the city exists.')\n",
        "else:\n",
        "  print('the city doesn\\'t exists.')"
      ],
      "metadata": {
        "colab": {
          "base_uri": "https://localhost:8080/"
        },
        "id": "bXPJSnOIcAL_",
        "outputId": "96d15e17-0652-4643-9aff-b8a6cde02fd9"
      },
      "execution_count": null,
      "outputs": [
        {
          "output_type": "stream",
          "name": "stdout",
          "text": [
            "the city exists.\n"
          ]
        }
      ]
    },
    {
      "cell_type": "markdown",
      "source": [
        "26. Write a code to create a list, a tuple and a dictionary, and print them all."
      ],
      "metadata": {
        "id": "YlXmDAamc_Rc"
      }
    },
    {
      "cell_type": "code",
      "source": [
        "list = [1,2,\"kavya\",3.14,4+3j]\n",
        "tuple = (\"apple\", \"baigan\",3+4j,2.2,1)\n",
        "dict = {'name':'kavya', 'city':'jaipur', 'age':21}\n",
        "print(list)\n",
        "print(tuple)\n",
        "print(dict)"
      ],
      "metadata": {
        "colab": {
          "base_uri": "https://localhost:8080/"
        },
        "id": "J66MqkyZg2Yw",
        "outputId": "ca05245f-2a02-4195-ea7a-5bb833b67a7d"
      },
      "execution_count": null,
      "outputs": [
        {
          "output_type": "stream",
          "name": "stdout",
          "text": [
            "[1, 2, 'kavya', 3.14, (4+3j)]\n",
            "('apple', 'baigan', (3+4j), 2.2, 1)\n",
            "{'name': 'kavya', 'city': 'jaipur', 'age': 21}\n"
          ]
        }
      ]
    },
    {
      "cell_type": "markdown",
      "source": [
        "27. Write a code to create a list of 5 random numbers between 1 to 100, sort it in ascending order, and print the result. (replaced)"
      ],
      "metadata": {
        "id": "gKXBExFqhntX"
      }
    },
    {
      "cell_type": "code",
      "source": [
        "random_numbers = [13, 3,62,46,29]\n",
        "random_numbers.sort()\n",
        "print(random_numbers)"
      ],
      "metadata": {
        "colab": {
          "base_uri": "https://localhost:8080/"
        },
        "id": "_UaqrItwiSx2",
        "outputId": "b5474b8d-9227-43a6-f1ea-f51d0e4f0a5d"
      },
      "execution_count": null,
      "outputs": [
        {
          "output_type": "stream",
          "name": "stdout",
          "text": [
            "[3, 13, 29, 46, 62]\n"
          ]
        }
      ]
    },
    {
      "cell_type": "markdown",
      "source": [
        "28. Write a code to create a list with strings and print the element at the third index."
      ],
      "metadata": {
        "id": "ltgHPyV3jQlp"
      }
    },
    {
      "cell_type": "code",
      "source": [
        "lis = [\"hi\",\"hello\",\"thank\",\"you\",\"bye\",\"see\",\"ya\",\"later\"]\n",
        "print(lis[3])"
      ],
      "metadata": {
        "colab": {
          "base_uri": "https://localhost:8080/"
        },
        "id": "u236Mf7Njmvg",
        "outputId": "6494f030-7b6d-4462-abda-bc7da292326a"
      },
      "execution_count": null,
      "outputs": [
        {
          "output_type": "stream",
          "name": "stdout",
          "text": [
            "you\n"
          ]
        }
      ]
    },
    {
      "cell_type": "markdown",
      "source": [
        "29. Write a code to combine two dictionaries into one and print the result."
      ],
      "metadata": {
        "id": "BiWguROfkFwh"
      }
    },
    {
      "cell_type": "code",
      "source": [
        "dict1 = {\"f_name\": \"kavya\", \"l_name\": \"bhatt\"}\n",
        "dict2 = {\"age\":21, \"city\":\"jaipur\"}\n",
        "combined_dict = {**dict1, **dict2}\n",
        "print(combined_dict)"
      ],
      "metadata": {
        "colab": {
          "base_uri": "https://localhost:8080/"
        },
        "id": "QGzMr-aFmNkq",
        "outputId": "3026d7bc-ffe5-4ba3-da65-e6ee86714af7"
      },
      "execution_count": null,
      "outputs": [
        {
          "output_type": "stream",
          "name": "stdout",
          "text": [
            "{'f_name': 'kavya', 'l_name': 'bhatt', 'age': 21, 'city': 'jaipur'}\n"
          ]
        }
      ]
    },
    {
      "cell_type": "markdown",
      "source": [
        "30. Write a code to convert a list of strings into a set."
      ],
      "metadata": {
        "id": "kyDuO0Hpm-gu"
      }
    },
    {
      "cell_type": "code",
      "source": [
        "my_list = [\"apple\", \"banana\", \"orange\", \"apple\", \"banana\", \"avacado\"]\n",
        "my_set = __builtins__.set(my_list)\n",
        "print(my_set)"
      ],
      "metadata": {
        "id": "VbsdWsRZ4MW-",
        "colab": {
          "base_uri": "https://localhost:8080/"
        },
        "outputId": "ab5281b4-7fa8-4758-ea53-aebb17fa3af1"
      },
      "execution_count": null,
      "outputs": [
        {
          "output_type": "stream",
          "name": "stdout",
          "text": [
            "{'avacado', 'apple', 'banana', 'orange'}\n"
          ]
        }
      ]
    }
  ]
}